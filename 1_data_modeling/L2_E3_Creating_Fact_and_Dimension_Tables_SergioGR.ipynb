{
 "cells": [
  {
   "cell_type": "markdown",
   "id": "ddcbc1ea",
   "metadata": {},
   "source": [
    "## Import libraries"
   ]
  },
  {
   "cell_type": "code",
   "execution_count": 1,
   "id": "61bf9cc6",
   "metadata": {},
   "outputs": [],
   "source": [
    "import psycopg2"
   ]
  },
  {
   "cell_type": "markdown",
   "id": "2d9ac578",
   "metadata": {},
   "source": [
    "## Create a connection to the database and get a cursor"
   ]
  },
  {
   "cell_type": "code",
   "execution_count": 2,
   "id": "71706193",
   "metadata": {},
   "outputs": [],
   "source": [
    "try: \n",
    "    conn = psycopg2.connect(\"host=localhost dbname=udacity_db user=root password=root\")\n",
    "    conn.autocommit = True\n",
    "except psycopg2.Error as e: \n",
    "    print(\"Error: Could not make connection to the Postgres database\")\n",
    "    print(e)\n",
    "    \n",
    "try: \n",
    "    cur = conn.cursor()\n",
    "except psycopg2.Error as e: \n",
    "    print(\"Error: Could not get curser to the Database\")\n",
    "    print(e)"
   ]
  },
  {
   "cell_type": "markdown",
   "id": "0c61f833",
   "metadata": {},
   "source": [
    "## Music store database with star schema"
   ]
  },
  {
   "cell_type": "markdown",
   "id": "f3db016a",
   "metadata": {},
   "source": [
    "Imagine you work at an online Music Store. There will be many tables in our database, but let's just focus on 4 tables around customer purchases.  \n",
    "\n",
    "![music_store_db_star_schema](music_store_db_star_schema.png)"
   ]
  },
  {
   "cell_type": "markdown",
   "id": "997865a9",
   "metadata": {},
   "source": [
    "### Fact table"
   ]
  },
  {
   "cell_type": "code",
   "execution_count": 3,
   "id": "92a2ca07",
   "metadata": {},
   "outputs": [],
   "source": [
    "# Create table\n",
    "create_customer_transactions = \"\"\"\n",
    "CREATE TABLE IF NOT EXISTS customer_transactions (\n",
    "    customer_id INT,\n",
    "    store_id INT,\n",
    "    spent NUMERIC,\n",
    "    PRIMARY KEY (customer_id, store_id)\n",
    ");\n",
    "\"\"\"\n",
    "\n",
    "try:\n",
    "    cur.execute(create_customer_transactions)\n",
    "except psycopg2.Error as e:\n",
    "    print(\"Error: Issue creating table\")\n",
    "    print(e)\n",
    "\n",
    "    \n",
    "# Insert data into the table\n",
    "insert_customer_transactions = \"\"\"\n",
    "INSERT INTO customer_transactions (customer_id, store_id, spent)\n",
    "VALUES (%s, %s, %s)\n",
    "\"\"\"\n",
    "\n",
    "try:\n",
    "    cur.executemany(insert_customer_transactions, ((1, 1, 20.50), (2, 1, 35.21)))\n",
    "except psycopg2.Error as e:\n",
    "    print(\"Error: Issue inserting rows\")\n",
    "    print(e)"
   ]
  },
  {
   "cell_type": "markdown",
   "id": "401a1c2b",
   "metadata": {},
   "source": [
    "## Dimesion tables"
   ]
  },
  {
   "cell_type": "code",
   "execution_count": 4,
   "id": "d9dc0b14",
   "metadata": {},
   "outputs": [],
   "source": [
    "### customer\n",
    "\n",
    "# Create table\n",
    "create_customer = \"\"\"\n",
    "CREATE TABLE IF NOT EXISTS customer (\n",
    "    customer_id INT PRIMARY KEY,\n",
    "    name VARCHAR NOT NULL,\n",
    "    rewards BOOLEAN\n",
    ");\n",
    "\"\"\"\n",
    "\n",
    "try:\n",
    "    cur.execute(create_customer)\n",
    "except psycopg2.Error as e:\n",
    "    print(\"Error: Issue creating table\")\n",
    "    print(e)\n",
    "\n",
    "    \n",
    "# Insert data into the table\n",
    "insert_customer = \"\"\"\n",
    "INSERT INTO customer (customer_id, name, rewards)\n",
    "VALUES (%s, %s, %s)\n",
    "\"\"\"\n",
    "\n",
    "try:\n",
    "    cur.executemany(insert_customer, ((1, \"Amanda\", True), (2, \"Toby\", False)))\n",
    "except psycopg2.Error as e:\n",
    "    print(\"Error: Issue inserting rows\")\n",
    "    print(e)"
   ]
  },
  {
   "cell_type": "code",
   "execution_count": 5,
   "id": "fccb17cf",
   "metadata": {},
   "outputs": [],
   "source": [
    "### items_purchased\n",
    "\n",
    "# Create table\n",
    "create_items_purchased = \"\"\"\n",
    "CREATE TABLE IF NOT EXISTS items_purchased (\n",
    "    customer_id INT PRIMARY KEY,\n",
    "    item_number INT NOT NULL,\n",
    "    item_name VARCHAR\n",
    ");\n",
    "\"\"\"\n",
    "\n",
    "try:\n",
    "    cur.execute(create_items_purchased)\n",
    "except psycopg2.Error as e:\n",
    "    print(\"Error: Issue creating table\")\n",
    "    print(e)\n",
    "\n",
    "    \n",
    "# Insert data into the table\n",
    "insert_items_purchased = \"\"\"\n",
    "INSERT INTO items_purchased (customer_id, item_number, item_name)\n",
    "VALUES (%s, %s, %s)\n",
    "\"\"\"\n",
    "\n",
    "try:\n",
    "    cur.executemany(insert_items_purchased, ((1, 1, \"Rubber Soul\"), (2, 3, \"Let It Be\")))\n",
    "except psycopg2.Error as e:\n",
    "    print(\"Error: Issue inserting rows\")\n",
    "    print(e)"
   ]
  },
  {
   "cell_type": "code",
   "execution_count": 6,
   "id": "84ad9915",
   "metadata": {},
   "outputs": [],
   "source": [
    "### store\n",
    "\n",
    "# Create table\n",
    "create_store = \"\"\"\n",
    "CREATE TABLE IF NOT EXISTS store (\n",
    "    store_id INT PRIMARY KEY,\n",
    "    state CHAR(2) NOT NULL\n",
    ");\n",
    "\"\"\"\n",
    "\n",
    "try:\n",
    "    cur.execute(create_store)\n",
    "except psycopg2.Error as e:\n",
    "    print(\"Error: Issue creating table\")\n",
    "    print(e)\n",
    "\n",
    "    \n",
    "# Insert data into the table\n",
    "insert_store = \"\"\"\n",
    "INSERT INTO store (store_id, state)\n",
    "VALUES (%s, %s)\n",
    "\"\"\"\n",
    "\n",
    "try:\n",
    "    cur.executemany(insert_store, ((1, \"CA\"), (2, \"WA\")))\n",
    "except psycopg2.Error as e:\n",
    "    print(\"Error: Issue inserting rows\")\n",
    "    print(e)"
   ]
  },
  {
   "cell_type": "markdown",
   "id": "f9086c96",
   "metadata": {},
   "source": [
    "## Queries"
   ]
  },
  {
   "cell_type": "markdown",
   "id": "539f5ea4",
   "metadata": {},
   "source": [
    "### Query 1\n",
    "Find all the customers that spent more than 30 dollars, who are they, which store they bought it from, location of the store, what they bought and if they are a rewards member."
   ]
  },
  {
   "cell_type": "code",
   "execution_count": 7,
   "id": "a2d71f78",
   "metadata": {},
   "outputs": [
    {
     "name": "stdout",
     "output_type": "stream",
     "text": [
      "('Toby', 1, 'CA', 'Let It Be', False)\n"
     ]
    }
   ],
   "source": [
    "query = \"\"\"\n",
    "SELECT\n",
    "    c.name,\n",
    "    s.store_id,\n",
    "    s.state,\n",
    "    i.item_name,\n",
    "    c.rewards\n",
    "FROM\n",
    "    customer_transactions t,\n",
    "    customer c,\n",
    "    items_purchased i,\n",
    "    store s\n",
    "WHERE\n",
    "    t.customer_id = c.customer_id AND\n",
    "    t.customer_id = i.customer_id AND\n",
    "    t.store_id = s.store_id AND\n",
    "    t.spent > 30;\n",
    "\"\"\"\n",
    "\n",
    "try:\n",
    "    cur.execute(query)\n",
    "except psycopg2.Error as e:\n",
    "    print(\"Error while executing query\")\n",
    "    print(e)\n",
    "\n",
    "row = cur.fetchone()\n",
    "while row:\n",
    "    print(row)\n",
    "    row = cur.fetchone()"
   ]
  },
  {
   "cell_type": "markdown",
   "id": "1cfbf4b6",
   "metadata": {},
   "source": [
    "### Query 2\n",
    "How much did Customer 2 spend?"
   ]
  },
  {
   "cell_type": "code",
   "execution_count": 8,
   "id": "30fbeecd",
   "metadata": {},
   "outputs": [
    {
     "name": "stdout",
     "output_type": "stream",
     "text": [
      "(2, Decimal('35.21'))\n"
     ]
    }
   ],
   "source": [
    "query = \"\"\"\n",
    "SELECT\n",
    "    customer_id,\n",
    "    SUM(spent)\n",
    "FROM\n",
    "    customer_transactions\n",
    "GROUP BY customer_id\n",
    "HAVING customer_id = 2;\n",
    "\"\"\"\n",
    "\n",
    "try:\n",
    "    cur.execute(query)\n",
    "except psycopg2.Error as e:\n",
    "    print(\"Error while executing query\")\n",
    "    print(e)\n",
    "\n",
    "row = cur.fetchone()\n",
    "while row:\n",
    "    print(row)\n",
    "    row = cur.fetchone()"
   ]
  },
  {
   "cell_type": "markdown",
   "id": "ac7ce48a",
   "metadata": {},
   "source": [
    "## Drop the tables "
   ]
  },
  {
   "cell_type": "code",
   "execution_count": 9,
   "id": "0035c94a",
   "metadata": {},
   "outputs": [],
   "source": [
    "try:\n",
    "    cur.execute(\"DROP TABLE customer_transactions, customer, items_purchased, store\")\n",
    "except psycopg2.Error as e:\n",
    "    print(\"Error while dropping table\")\n",
    "    print(e)"
   ]
  },
  {
   "cell_type": "markdown",
   "id": "69d63fb4",
   "metadata": {},
   "source": [
    "## Close cursor and connection"
   ]
  },
  {
   "cell_type": "code",
   "execution_count": 10,
   "id": "4c44f94b",
   "metadata": {},
   "outputs": [],
   "source": [
    "cur.close()\n",
    "conn.close()"
   ]
  },
  {
   "cell_type": "code",
   "execution_count": null,
   "id": "ee1285bf",
   "metadata": {},
   "outputs": [],
   "source": []
  }
 ],
 "metadata": {
  "kernelspec": {
   "display_name": "Python 3 (ipykernel)",
   "language": "python",
   "name": "python3"
  },
  "language_info": {
   "codemirror_mode": {
    "name": "ipython",
    "version": 3
   },
   "file_extension": ".py",
   "mimetype": "text/x-python",
   "name": "python",
   "nbconvert_exporter": "python",
   "pygments_lexer": "ipython3",
   "version": "3.9.15"
  }
 },
 "nbformat": 4,
 "nbformat_minor": 5
}
