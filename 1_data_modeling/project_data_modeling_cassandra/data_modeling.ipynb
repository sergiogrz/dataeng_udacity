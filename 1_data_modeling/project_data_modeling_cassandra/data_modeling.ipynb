{
 "cells": [
  {
   "cell_type": "markdown",
   "id": "cb9b5156",
   "metadata": {},
   "source": [
    "# Project: Data Modeling with Apache Cassandra"
   ]
  },
  {
   "cell_type": "markdown",
   "id": "c79a38b8",
   "metadata": {},
   "source": [
    "## Data modeling and queries"
   ]
  },
  {
   "cell_type": "markdown",
   "id": "c5a2e1b4",
   "metadata": {},
   "source": [
    "After preprocessing the raw data, we are able to work with the `event_datafile.csv` file that we've just created. This file contains the following columns:\n",
    "* artist_name\n",
    "* user_first_name\n",
    "* user_gender\n",
    "* item_in_session\n",
    "* user_last_name\n",
    "* song_length\n",
    "* level (paid or free song)\n",
    "* user_location\n",
    "* session_id\n",
    "* song_title\n",
    "* user_id\n",
    "\n",
    "The image below is a screenshoot of what the denormalized data look like in the `event_datafile_csv` file after the preprocessing is completed:\n",
    "\n",
    "![event_datafile](images/event_datafile.png)"
   ]
  },
  {
   "cell_type": "markdown",
   "id": "9ed456a5",
   "metadata": {},
   "source": [
    "### Import libraries "
   ]
  },
  {
   "cell_type": "code",
   "execution_count": 1,
   "id": "c54ac362",
   "metadata": {},
   "outputs": [],
   "source": [
    "from cassandra.cluster import Cluster\n",
    "import csv\n",
    "from prettytable import PrettyTable"
   ]
  },
  {
   "cell_type": "markdown",
   "id": "a873e293",
   "metadata": {},
   "source": [
    "### Create a connection to the database"
   ]
  },
  {
   "cell_type": "code",
   "execution_count": 2,
   "id": "ded53bcc",
   "metadata": {},
   "outputs": [],
   "source": [
    "try:\n",
    "    cluster = Cluster([\"127.0.0.1\"])\n",
    "    session = cluster.connect()\n",
    "except Exception as e:\n",
    "    print(e)"
   ]
  },
  {
   "cell_type": "markdown",
   "id": "ea0d8386",
   "metadata": {},
   "source": [
    "### Create a keyspace to do the work in and connect to it"
   ]
  },
  {
   "cell_type": "code",
   "execution_count": 3,
   "id": "535106bb",
   "metadata": {},
   "outputs": [],
   "source": [
    "try:\n",
    "    session.execute(\"\"\"\n",
    "    CREATE KEYSPACE IF NOT EXISTS udacity_keyspace\n",
    "    WITH REPLICATION = \n",
    "    {'class': 'SimpleStrategy', 'replication_factor': 1}\n",
    "    \"\"\")\n",
    "    session.set_keyspace(\"udacity_keyspace\")\n",
    "except Exception as e:\n",
    "    print(e)"
   ]
  },
  {
   "cell_type": "markdown",
   "id": "ffdff519",
   "metadata": {},
   "source": [
    "### Music library\n",
    "\n",
    "In Apache Cassandra you model the database tables on the queries you want to run. So in this case we need to create tables to run the following queries.  \n",
    "1. **Give me the artist, song title and song's length in the music app history that was heard during  session_id = 338, and item_in_session  = 4.**\n",
    "2. **Give me only the following: name of artist, song (sorted by item_in_session) and user (first and last name) for user_id = 10, session_id = 182.**\n",
    "3. **Give me every user name (first and last) in my music app history who listened to the song 'All Hands Against His Own'.**"
   ]
  },
  {
   "cell_type": "markdown",
   "id": "53987422",
   "metadata": {},
   "source": [
    "### Query 1\n",
    "**Give me the artist, song title and song's length in the music app history that was heard during session_id = 338, and item_in_session = 4.**"
   ]
  },
  {
   "cell_type": "markdown",
   "id": "66eaec3f",
   "metadata": {},
   "source": [
    "To answer this question, let's create a table called `session_library` with the following information:\n",
    "* session_id\n",
    "* item_in_session\n",
    "* artist_name\n",
    "* song_title\n",
    "* song_length\n",
    "\n",
    "Since we have to filter by session_id and item_in_session, we'll use session_id as the PARTITION KEY and item_in_session as a CLUSTERING COLUMN, so both together form the PRIMARY KEY. In this case, we could have also used them both as a composite PARTITION KEY."
   ]
  },
  {
   "cell_type": "code",
   "execution_count": 4,
   "id": "614f43bf",
   "metadata": {},
   "outputs": [],
   "source": [
    "create_session_library = \"\"\"\n",
    "CREATE TABLE IF NOT EXISTS session_library (\n",
    "    session_id INT,\n",
    "    item_in_session INT,\n",
    "    artist_name TEXT,\n",
    "    song_title TEXT,\n",
    "    song_length DECIMAL,\n",
    "    PRIMARY KEY (session_id, item_in_session)\n",
    ");\n",
    "\"\"\"\n",
    "\n",
    "try:\n",
    "    session.execute(create_session_library)\n",
    "except Exception as e:\n",
    "    print(e)"
   ]
  },
  {
   "cell_type": "code",
   "execution_count": 5,
   "id": "44e77942",
   "metadata": {},
   "outputs": [],
   "source": [
    "insert_session_library = \"\"\"\n",
    "INSERT INTO session_library (session_id, item_in_session, artist_name, song_title, song_length)\n",
    "VALUES (%s, %s, %s, %s, %s);\n",
    "\"\"\"\n",
    "\n",
    "file = 'event_datafile.csv'\n",
    "\n",
    "with open(file, encoding = 'utf8') as f:\n",
    "    csvreader = csv.reader(f)\n",
    "    next(csvreader) # skip header\n",
    "    for line in csvreader:\n",
    "        session.execute(insert_session_library, (int(line[8]), int(line[3]), line[0], line[9], float(line[5])))"
   ]
  },
  {
   "cell_type": "markdown",
   "id": "6a2e68bf",
   "metadata": {},
   "source": [
    "Let's verify that the data have been correctly inserted into our table by using the query from the statement."
   ]
  },
  {
   "cell_type": "code",
   "execution_count": 6,
   "id": "e9e7d4c3",
   "metadata": {},
   "outputs": [
    {
     "name": "stdout",
     "output_type": "stream",
     "text": [
      "+-----------+---------------------------------+-------------+\n",
      "|   Artist  |            Song title           | Song length |\n",
      "+-----------+---------------------------------+-------------+\n",
      "| Faithless | Music Matters (Mark Knight Dub) |   495.3073  |\n",
      "+-----------+---------------------------------+-------------+\n"
     ]
    }
   ],
   "source": [
    "query = \"\"\"\n",
    "SELECT artist_name,\n",
    "    song_title,\n",
    "    song_length\n",
    "FROM session_library\n",
    "WHERE session_id = 338\n",
    "AND item_in_session = 4;\n",
    "\"\"\"\n",
    "\n",
    "try:\n",
    "    rows = session.execute(query)\n",
    "except Exception as e:\n",
    "    print(e)\n",
    "\n",
    "# df = pd.DataFrame(columns=[\"artist_name\", \"song_title\", \"song_length\"])\n",
    "table = PrettyTable()\n",
    "table.field_names = [\"Artist\", \"Song title\", \"Song length\"]\n",
    "    \n",
    "for row in rows:\n",
    "    # df.loc[len(df.index)] = [row.artist_name, row.song_title, row.song_length]\n",
    "    table.add_row([row.artist_name, row.song_title, row.song_length])\n",
    "\n",
    "# df\n",
    "print(table)"
   ]
  },
  {
   "cell_type": "markdown",
   "id": "ab476670",
   "metadata": {},
   "source": [
    "### Query 2\n",
    "**Give me only the following: name of artist, song (sorted by item_in_session) and user (first and last name) for user_id = 10, session_id = 182.**"
   ]
  },
  {
   "cell_type": "markdown",
   "id": "b8b9d041",
   "metadata": {},
   "source": [
    "To answer this question, let's create a table called `user_library` with the following information:\n",
    "* user_id\n",
    "* session_id\n",
    "* item_in_session\n",
    "* user_first_name\n",
    "* user_last_name\n",
    "* artist_name\n",
    "* song_title\n",
    "\n",
    "Since we have to filter by user_id and session_id, and we have to sort by item_in_session, we'll use both user_id and session_id as the PARTITION KEY, whereas item_in_session will be our CLUSTERING COLUMN, so all together form the PRIMARY KEY."
   ]
  },
  {
   "cell_type": "code",
   "execution_count": 7,
   "id": "0772cb67",
   "metadata": {},
   "outputs": [],
   "source": [
    "create_user_library = \"\"\"\n",
    "CREATE TABLE IF NOT EXISTS user_library (\n",
    "    user_id INT,\n",
    "    session_id INT,\n",
    "    item_in_session INT,\n",
    "    user_first_name TEXT,\n",
    "    user_last_name TEXT,\n",
    "    artist_name TEXT,\n",
    "    song_title TEXT,\n",
    "    PRIMARY KEY ((user_id, session_id), item_in_session)\n",
    ");\n",
    "\"\"\"\n",
    "\n",
    "try:\n",
    "    session.execute(create_user_library)\n",
    "except Exception as e:\n",
    "    print(e)"
   ]
  },
  {
   "cell_type": "code",
   "execution_count": 8,
   "id": "d3893638",
   "metadata": {},
   "outputs": [],
   "source": [
    "insert_user_library = \"\"\"\n",
    "INSERT INTO user_library (user_id, session_id, item_in_session, user_first_name, \n",
    "    user_last_name, artist_name, song_title)\n",
    "VALUES (%s, %s, %s, %s, %s, %s, %s);\n",
    "\"\"\"\n",
    "\n",
    "file = 'event_datafile.csv'\n",
    "\n",
    "with open(file, encoding = 'utf8') as f:\n",
    "    csvreader = csv.reader(f)\n",
    "    next(csvreader) # skip header\n",
    "    for line in csvreader:\n",
    "        session.execute(insert_user_library, (int(line[10]), int(line[8]), int(line[3]), line[1], line[4], \n",
    "                                              line[0], line[9]))"
   ]
  },
  {
   "cell_type": "markdown",
   "id": "824f8bb1",
   "metadata": {},
   "source": [
    "Query from the statement:"
   ]
  },
  {
   "cell_type": "code",
   "execution_count": 9,
   "id": "6001ca66",
   "metadata": {},
   "outputs": [
    {
     "name": "stdout",
     "output_type": "stream",
     "text": [
      "+-------------------+------------------------------------------------------+-----------------+----------------+\n",
      "|       Artist      |                      Song title                      | User first name | User last name |\n",
      "+-------------------+------------------------------------------------------+-----------------+----------------+\n",
      "|  Down To The Bone |                  Keep On Keepin' On                  |      Sylvie     |      Cruz      |\n",
      "|    Three Drives   |                     Greece 2000                      |      Sylvie     |      Cruz      |\n",
      "| Sebastien Tellier |                      Kilometer                       |      Sylvie     |      Cruz      |\n",
      "|   Lonnie Gordon   | Catch You Baby (Steve Pitron & Max Sanna Radio Edit) |      Sylvie     |      Cruz      |\n",
      "+-------------------+------------------------------------------------------+-----------------+----------------+\n"
     ]
    }
   ],
   "source": [
    "query = \"\"\"\n",
    "SELECT artist_name,\n",
    "    song_title,\n",
    "    user_first_name,\n",
    "    user_last_name\n",
    "FROM user_library\n",
    "WHERE user_id = 10\n",
    "AND session_id = 182\n",
    "ORDER BY item_in_session ASC;\n",
    "\"\"\"\n",
    "\n",
    "try:\n",
    "    rows = session.execute(query)\n",
    "except Exception as e:\n",
    "    print(e)\n",
    "\n",
    "table = PrettyTable()\n",
    "table.field_names = [\"Artist\", \"Song title\", \"User first name\", \"User last name\"]\n",
    "\n",
    "for row in rows:\n",
    "    table.add_row([row.artist_name, row.song_title, row.user_first_name, row.user_last_name])\n",
    "    \n",
    "print(table)"
   ]
  },
  {
   "cell_type": "markdown",
   "id": "2a4e81eb",
   "metadata": {},
   "source": [
    "### Query 3\n",
    "**Give me every user name (first and last) in my music app history who listened to the song 'All Hands Against His Own'.**"
   ]
  },
  {
   "cell_type": "markdown",
   "id": "d9203a75",
   "metadata": {},
   "source": [
    "To answer this question, let's create a table called `song_history_library` with the following information:\n",
    "* song_title\n",
    "* user_id\n",
    "* user_first_name\n",
    "* user_last_name\n",
    "* session_id\n",
    "\n",
    "In this case, in order to have different rows for different users, we'll use song_title as our PARTITION KEY, and user_id as a CLUSTERING COLUMN, so both together form the PRIMARY KEY."
   ]
  },
  {
   "cell_type": "code",
   "execution_count": 10,
   "id": "96a958b9",
   "metadata": {},
   "outputs": [],
   "source": [
    "create_song_history_library = \"\"\"\n",
    "CREATE TABLE IF NOT EXISTS song_history_library (\n",
    "    song_title TEXT,\n",
    "    user_id INT,\n",
    "    user_first_name TEXT,\n",
    "    user_last_name TEXT,\n",
    "    session_id INT,\n",
    "    PRIMARY KEY (song_title, user_id)\n",
    ");\n",
    "\"\"\"\n",
    "\n",
    "try:\n",
    "    session.execute(create_song_history_library)\n",
    "except Exception as e:\n",
    "    print(e)"
   ]
  },
  {
   "cell_type": "code",
   "execution_count": 11,
   "id": "e6e9b401",
   "metadata": {},
   "outputs": [],
   "source": [
    "insert_song_history_library = \"\"\"\n",
    "INSERT INTO song_history_library (song_title, user_id, user_first_name, user_last_name, session_id)\n",
    "VALUES (%s, %s, %s, %s, %s);\n",
    "\"\"\"\n",
    "\n",
    "file = 'event_datafile.csv'\n",
    "\n",
    "with open(file, encoding = 'utf8') as f:\n",
    "    csvreader = csv.reader(f)\n",
    "    next(csvreader) # skip header\n",
    "    for line in csvreader:\n",
    "        session.execute(insert_song_history_library, (line[9], int(line[10]), line[1], line[4], int(line[8])))"
   ]
  },
  {
   "cell_type": "markdown",
   "id": "79b5f9fd",
   "metadata": {},
   "source": [
    "Query from the statement:"
   ]
  },
  {
   "cell_type": "code",
   "execution_count": 12,
   "id": "1a173c8a",
   "metadata": {},
   "outputs": [
    {
     "name": "stdout",
     "output_type": "stream",
     "text": [
      "+-----------------+----------------+\n",
      "| User first name | User last name |\n",
      "+-----------------+----------------+\n",
      "|    Jacqueline   |     Lynch      |\n",
      "|      Tegan      |     Levine     |\n",
      "|       Sara      |    Johnson     |\n",
      "+-----------------+----------------+\n"
     ]
    }
   ],
   "source": [
    "query = \"\"\"\n",
    "SELECT user_first_name,\n",
    "    user_last_name\n",
    "FROM song_history_library\n",
    "WHERE song_title = 'All Hands Against His Own'\n",
    "\"\"\"\n",
    "\n",
    "try:\n",
    "    rows = session.execute(query)\n",
    "except Exception as e:\n",
    "    print(e)\n",
    "\n",
    "table = PrettyTable()\n",
    "table.field_names = [\"User first name\", \"User last name\"]\n",
    "\n",
    "for row in rows:\n",
    "    table.add_row([row.user_first_name, row.user_last_name])\n",
    "    \n",
    "print(table)"
   ]
  },
  {
   "cell_type": "markdown",
   "id": "556055ec",
   "metadata": {},
   "source": [
    "### Drop the tables"
   ]
  },
  {
   "cell_type": "code",
   "execution_count": 13,
   "id": "54f60bf7",
   "metadata": {},
   "outputs": [],
   "source": [
    "try:\n",
    "    session.execute(\"DROP TABLE session_library;\")\n",
    "    session.execute(\"DROP TABLE user_library;\")\n",
    "    session.execute(\"DROP TABLE song_history_library;\")\n",
    "except Exception as e:\n",
    "    print(e)"
   ]
  },
  {
   "cell_type": "markdown",
   "id": "a6bb83fb",
   "metadata": {},
   "source": [
    "### Close session and cluster connection"
   ]
  },
  {
   "cell_type": "code",
   "execution_count": 14,
   "id": "44898e5c",
   "metadata": {},
   "outputs": [],
   "source": [
    "session.shutdown()\n",
    "cluster.shutdown()"
   ]
  },
  {
   "cell_type": "code",
   "execution_count": null,
   "id": "7d3c3cd5",
   "metadata": {},
   "outputs": [],
   "source": []
  }
 ],
 "metadata": {
  "kernelspec": {
   "display_name": "Python 3 (ipykernel)",
   "language": "python",
   "name": "python3"
  },
  "language_info": {
   "codemirror_mode": {
    "name": "ipython",
    "version": 3
   },
   "file_extension": ".py",
   "mimetype": "text/x-python",
   "name": "python",
   "nbconvert_exporter": "python",
   "pygments_lexer": "ipython3",
   "version": "3.9.15"
  }
 },
 "nbformat": 4,
 "nbformat_minor": 5
}
