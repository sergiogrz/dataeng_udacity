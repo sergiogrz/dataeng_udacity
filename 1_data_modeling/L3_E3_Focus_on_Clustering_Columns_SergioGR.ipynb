{
 "cells": [
  {
   "cell_type": "markdown",
   "id": "8cc056fe",
   "metadata": {},
   "source": [
    "## Import libraries"
   ]
  },
  {
   "cell_type": "code",
   "execution_count": 2,
   "id": "8bb2a590",
   "metadata": {},
   "outputs": [],
   "source": [
    "import cassandra\n",
    "from cassandra.cluster import Cluster"
   ]
  },
  {
   "cell_type": "markdown",
   "id": "2902f271",
   "metadata": {},
   "source": [
    "## Create a connection to the database"
   ]
  },
  {
   "cell_type": "code",
   "execution_count": 3,
   "id": "a925bec9",
   "metadata": {},
   "outputs": [],
   "source": [
    "try:\n",
    "    cluster = Cluster([\"127.0.0.1\"])\n",
    "    session = cluster.connect()\n",
    "except Exception as e:\n",
    "    print(e)"
   ]
  },
  {
   "cell_type": "markdown",
   "id": "2ebada80",
   "metadata": {},
   "source": [
    "## Create a keyspace to do the work in and connect to it"
   ]
  },
  {
   "cell_type": "code",
   "execution_count": 4,
   "id": "03aa7fa8",
   "metadata": {},
   "outputs": [],
   "source": [
    "try:\n",
    "    session.execute(\"\"\"\n",
    "    CREATE KEYSPACE IF NOT EXISTS udacity_keyspace\n",
    "    WITH REPLICATION = \n",
    "    {'class': 'SimpleStrategy', 'replication_factor': 1}\n",
    "    \"\"\")\n",
    "    session.set_keyspace(\"udacity_keyspace\")\n",
    "except Exception as e:\n",
    "    print(e)"
   ]
  },
  {
   "cell_type": "markdown",
   "id": "498726e8",
   "metadata": {},
   "source": [
    "## Album library"
   ]
  },
  {
   "cell_type": "markdown",
   "id": "e9655b07",
   "metadata": {},
   "source": [
    "We need to create a new music library of albums.  \n",
    "\n",
    "Here is the information asked of the data:  \n",
    "Query: Give me all the information from the music library about a given album  .\n",
    "`select * from album_library WHERE album_name=\"Close To You\"`  \n",
    "\n",
    "Here is the collection of data:\n",
    "![music_library_cassandra_db](images/music_library_cassandra_db_3.png)\n",
    "\n",
    "**How should we model this data? What should be our Primary Key and Partition Key?**"
   ]
  },
  {
   "cell_type": "markdown",
   "id": "071aba52",
   "metadata": {},
   "source": [
    "## Data modeling"
   ]
  },
  {
   "cell_type": "code",
   "execution_count": 5,
   "id": "52aedeef",
   "metadata": {},
   "outputs": [],
   "source": [
    "# Create table\n",
    "create_album_library = \"\"\"\n",
    "CREATE TABLE IF NOT EXISTS album_library (\n",
    "    album_name TEXT,\n",
    "    artist_name TEXT,\n",
    "    year INT,\n",
    "    city TEXT,\n",
    "    PRIMARY KEY (album_name, artist_name)\n",
    ");\n",
    "\"\"\"\n",
    "\n",
    "try:\n",
    "    session.execute(create_album_library)\n",
    "except Exception as e:\n",
    "    print(e)\n",
    "    \n",
    "# Insert data\n",
    "insert_album_library = \"\"\"\n",
    "INSERT INTO album_library (album_name, artist_name, year, city)\n",
    "VALUES (%s, %s, %s, %s);\n",
    "\"\"\"\n",
    "\n",
    "album_library_data = [\n",
    "    (\"Let it Be\", \"The Beatles\", 1970, \"Liverpool\"),\n",
    "    (\"Rubber Soul\", \"The Beatles\", 1965, \"Oxford\"),\n",
    "    (\"Beatles For Sale\", \"The Beatles\", 1964, \"London\"),\n",
    "    (\"The Monkees\", \"The Monkees\", 1966, \"Los Angeles\"),\n",
    "    (\"Close To You\", \"The Carpenters\", 1970, \"San Diego\")\n",
    "]\n",
    "\n",
    "try:\n",
    "    for item in album_library_data:\n",
    "        session.execute(insert_album_library, item)\n",
    "except Exception as e:\n",
    "    print(e)"
   ]
  },
  {
   "cell_type": "markdown",
   "id": "41c73603",
   "metadata": {},
   "source": [
    "### Validate our data model"
   ]
  },
  {
   "cell_type": "code",
   "execution_count": 6,
   "id": "c8e8c29c",
   "metadata": {},
   "outputs": [
    {
     "name": "stdout",
     "output_type": "stream",
     "text": [
      "Close To You The Carpenters 1970 San Diego\n"
     ]
    }
   ],
   "source": [
    "query = \"\"\"\n",
    "SELECT *\n",
    "FROM album_library\n",
    "WHERE album_name ='Close To You';\n",
    "\"\"\"\n",
    "\n",
    "try:\n",
    "    rows = session.execute(query)\n",
    "except Exception as e:\n",
    "    print(e)\n",
    "    \n",
    "for row in rows:\n",
    "    print(row.album_name, row.artist_name, row.year, row.city)"
   ]
  },
  {
   "cell_type": "markdown",
   "id": "1809247f",
   "metadata": {},
   "source": [
    "## Drop the table"
   ]
  },
  {
   "cell_type": "code",
   "execution_count": 7,
   "id": "fa30e2f0",
   "metadata": {},
   "outputs": [],
   "source": [
    "try:\n",
    "    session.execute(\"DROP TABLE album_library;\")\n",
    "except Exception as e:\n",
    "    print(e)"
   ]
  },
  {
   "cell_type": "markdown",
   "id": "9b651094",
   "metadata": {},
   "source": [
    "## Close session and cluster connection"
   ]
  },
  {
   "cell_type": "code",
   "execution_count": 8,
   "id": "4f55d543",
   "metadata": {},
   "outputs": [],
   "source": [
    "session.shutdown()\n",
    "cluster.shutdown()"
   ]
  },
  {
   "cell_type": "code",
   "execution_count": null,
   "id": "8a6d914b",
   "metadata": {},
   "outputs": [],
   "source": []
  }
 ],
 "metadata": {
  "kernelspec": {
   "display_name": "Python 3 (ipykernel)",
   "language": "python",
   "name": "python3"
  },
  "language_info": {
   "codemirror_mode": {
    "name": "ipython",
    "version": 3
   },
   "file_extension": ".py",
   "mimetype": "text/x-python",
   "name": "python",
   "nbconvert_exporter": "python",
   "pygments_lexer": "ipython3",
   "version": "3.9.15"
  }
 },
 "nbformat": 4,
 "nbformat_minor": 5
}
