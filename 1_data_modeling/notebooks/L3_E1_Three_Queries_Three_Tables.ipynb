{
 "cells": [
  {
   "cell_type": "markdown",
   "id": "e748538d",
   "metadata": {},
   "source": [
    "## Import libraries"
   ]
  },
  {
   "cell_type": "code",
   "execution_count": 1,
   "id": "8790bf14",
   "metadata": {},
   "outputs": [],
   "source": [
    "import cassandra\n",
    "from cassandra.cluster import Cluster"
   ]
  },
  {
   "cell_type": "markdown",
   "id": "9d7949b3",
   "metadata": {},
   "source": [
    "## Create a connection to the database"
   ]
  },
  {
   "cell_type": "code",
   "execution_count": 2,
   "id": "fc83e013",
   "metadata": {},
   "outputs": [],
   "source": [
    "try:\n",
    "    cluster = Cluster([\"127.0.0.1\"])\n",
    "    session = cluster.connect()\n",
    "except Exception as e:\n",
    "    print(e)"
   ]
  },
  {
   "cell_type": "markdown",
   "id": "d08de539",
   "metadata": {},
   "source": [
    "## Create a keyspace to do the work in and connect to it"
   ]
  },
  {
   "cell_type": "code",
   "execution_count": 3,
   "id": "278d8c8b",
   "metadata": {},
   "outputs": [],
   "source": [
    "try:\n",
    "    session.execute(\"\"\"\n",
    "    CREATE KEYSPACE IF NOT EXISTS udacity_keyspace\n",
    "    WITH REPLICATION = \n",
    "    {'class': 'SimpleStrategy', 'replication_factor': 1}\n",
    "    \"\"\")\n",
    "    session.set_keyspace(\"udacity_keyspace\")\n",
    "except Exception as e:\n",
    "    print(e)"
   ]
  },
  {
   "cell_type": "markdown",
   "id": "07fffa45",
   "metadata": {},
   "source": [
    "## Music library "
   ]
  },
  {
   "attachments": {},
   "cell_type": "markdown",
   "id": "660cb199",
   "metadata": {},
   "source": [
    "We want to ask 3 questions of the data:\n",
    "1. Give every album in the music library that was released in a given year  \n",
    "`select * from music_library WHERE YEAR=1970`\n",
    "2. Give every album in the music library that was created by a given artist  \n",
    "`select * from artist_library WHERE artist_name=\"The Beatles\"`\n",
    "3. Give all the information from the music library about a given album  \n",
    "`select * from album_library WHERE album_name=\"Close To You\"`  \n",
    "\n",
    "Since we want to do three different queries, we will need different tables that partition the data differently.\n",
    "\n",
    "![music_library_cassandra_db](../images/music_library_cassandra_db.png)"
   ]
  },
  {
   "cell_type": "markdown",
   "id": "100733b8",
   "metadata": {},
   "source": [
    "### Create the tables and insert data\n",
    "\n",
    "#### music_library"
   ]
  },
  {
   "cell_type": "code",
   "execution_count": 4,
   "id": "12c02255",
   "metadata": {},
   "outputs": [],
   "source": [
    "# Create table\n",
    "create_music_library = \"\"\"\n",
    "CREATE TABLE IF NOT EXISTS music_library (\n",
    "    year int,\n",
    "    artist_name text,\n",
    "    album_name text,\n",
    "    PRIMARY KEY (year, artist_name)\n",
    "    );\"\"\"\n",
    "try:\n",
    "    session.execute(create_music_library)\n",
    "except Exception as e:\n",
    "    print(e)\n",
    "    \n",
    "# Insert data\n",
    "insert_music_library = \"\"\"\n",
    "INSERT INTO music_library (year, artist_name, album_name)\n",
    "VALUES (%s, %s, %s);\n",
    "\"\"\"\n",
    "music_library_data = [\n",
    "    (1970, \"The Beatles\", \"Let it Be\"),\n",
    "    (1965, \"The Beatles\", \"Rubber Soul\"),\n",
    "    (1965, \"The Who\", \"My Generation\"),\n",
    "    (1966, \"The Monkees\", \"The Monkees\"),\n",
    "    (1970, \"The Carpenters\", \"Close To You\")\n",
    "]\n",
    "try:\n",
    "    for item in music_library_data:\n",
    "        session.execute(insert_music_library, item)\n",
    "except Exception as e:\n",
    "    print(e)"
   ]
  },
  {
   "cell_type": "markdown",
   "id": "ed1cec5d",
   "metadata": {},
   "source": [
    "#### artist_library"
   ]
  },
  {
   "cell_type": "code",
   "execution_count": 5,
   "id": "1e553abd",
   "metadata": {},
   "outputs": [],
   "source": [
    "# Create table\n",
    "create_artist_library = \"\"\"\n",
    "CREATE TABLE IF NOT EXISTS artist_library (\n",
    "    artist_name text,\n",
    "    album_name text,\n",
    "    year int,\n",
    "    PRIMARY KEY (artist_name, album_name)\n",
    "    );\"\"\"\n",
    "try:\n",
    "    session.execute(create_artist_library)\n",
    "except Exception as e:\n",
    "    print(e)\n",
    "    \n",
    "# Insert data\n",
    "insert_artist_library = \"\"\"\n",
    "INSERT INTO artist_library (artist_name, album_name, year)\n",
    "VALUES (%s, %s, %s);\n",
    "\"\"\"\n",
    "artist_library_data = [\n",
    "    (\"The Beatles\", \"Let it Be\", 1970),\n",
    "    (\"The Beatles\", \"Rubber Soul\", 1965),\n",
    "    (\"The Who\", \"My Generation\", 1965),\n",
    "    (\"The Monkees\", \"The Monkees\", 1966),\n",
    "    (\"The Carpenters\", \"Close To You\", 1970)\n",
    "]\n",
    "try:\n",
    "    for item in artist_library_data:\n",
    "        session.execute(insert_artist_library, item)\n",
    "except Exception as e:\n",
    "    print(e)"
   ]
  },
  {
   "cell_type": "markdown",
   "id": "86dae109",
   "metadata": {},
   "source": [
    "#### album_library"
   ]
  },
  {
   "cell_type": "code",
   "execution_count": 6,
   "id": "07a0ee64",
   "metadata": {},
   "outputs": [],
   "source": [
    "# Create table\n",
    "create_album_library = \"\"\"\n",
    "CREATE TABLE IF NOT EXISTS album_library (\n",
    "    album_name text,\n",
    "    artist_name text,\n",
    "    year int,\n",
    "    PRIMARY KEY (album_name, artist_name)\n",
    "    );\"\"\"\n",
    "try:\n",
    "    session.execute(create_album_library)\n",
    "except Exception as e:\n",
    "    print(e)\n",
    "    \n",
    "# Insert data\n",
    "insert_album_library = \"\"\"\n",
    "INSERT INTO album_library (album_name, artist_name, year)\n",
    "VALUES (%s, %s, %s);\n",
    "\"\"\"\n",
    "album_library_data = [\n",
    "    (\"Let it Be\", \"The Beatles\", 1970),\n",
    "    (\"Rubber Soul\", \"The Beatles\", 1965),\n",
    "    (\"My Generation\", \"The Who\", 1965),\n",
    "    (\"The Monkees\", \"The Monkees\", 1966),\n",
    "    (\"Close To You\", \"The Carpenters\", 1970)\n",
    "]\n",
    "try:\n",
    "    for item in album_library_data:\n",
    "        session.execute(insert_album_library, item)\n",
    "except Exception as e:\n",
    "    print(e)"
   ]
  },
  {
   "cell_type": "markdown",
   "id": "14aca5fd",
   "metadata": {},
   "source": [
    "### Validate the data model\n",
    "\n",
    "#### Query 1"
   ]
  },
  {
   "cell_type": "code",
   "execution_count": 7,
   "id": "b074295c",
   "metadata": {},
   "outputs": [
    {
     "name": "stdout",
     "output_type": "stream",
     "text": [
      "1970 The Beatles Let it Be\n",
      "1970 The Carpenters Close To You\n"
     ]
    }
   ],
   "source": [
    "query = \"\"\"\n",
    "SELECT *\n",
    "FROM music_library\n",
    "WHERE year = 1970;\n",
    "\"\"\"\n",
    "\n",
    "try:\n",
    "    rows = session.execute(query)\n",
    "except Exception as e:\n",
    "    print(e)\n",
    "\n",
    "for row in rows:\n",
    "    print(row.year, row.artist_name, row.album_name)"
   ]
  },
  {
   "cell_type": "markdown",
   "id": "de7bf880",
   "metadata": {},
   "source": [
    "#### Query 2"
   ]
  },
  {
   "cell_type": "code",
   "execution_count": 8,
   "id": "5f1b42f5",
   "metadata": {},
   "outputs": [
    {
     "name": "stdout",
     "output_type": "stream",
     "text": [
      "The Beatles Let it Be 1970\n",
      "The Beatles Rubber Soul 1965\n"
     ]
    }
   ],
   "source": [
    "query = \"\"\"\n",
    "SELECT *\n",
    "FROM artist_library\n",
    "WHERE artist_name = 'The Beatles';\n",
    "\"\"\"\n",
    "\n",
    "try:\n",
    "    rows = session.execute(query)\n",
    "except Exception as e:\n",
    "    print(e)\n",
    "\n",
    "for row in rows:\n",
    "    print(row.artist_name, row.album_name, row.year)"
   ]
  },
  {
   "cell_type": "markdown",
   "id": "84baf8c0",
   "metadata": {},
   "source": [
    "#### Query 3"
   ]
  },
  {
   "cell_type": "code",
   "execution_count": 9,
   "id": "697e3555",
   "metadata": {},
   "outputs": [
    {
     "name": "stdout",
     "output_type": "stream",
     "text": [
      "Close To You The Carpenters 1970\n"
     ]
    }
   ],
   "source": [
    "query = \"\"\"\n",
    "SELECT *\n",
    "FROM album_library\n",
    "WHERE album_name = 'Close To You';\n",
    "\"\"\"\n",
    "\n",
    "try:\n",
    "    rows = session.execute(query)\n",
    "except Exception as e:\n",
    "    print(e)\n",
    "\n",
    "for row in rows:\n",
    "    print(row.album_name, row.artist_name, row.year)"
   ]
  },
  {
   "cell_type": "markdown",
   "id": "6c09d37e",
   "metadata": {},
   "source": [
    "## Drop the tables"
   ]
  },
  {
   "cell_type": "code",
   "execution_count": 10,
   "id": "72e1a7aa",
   "metadata": {},
   "outputs": [],
   "source": [
    "try:\n",
    "    session.execute(\"DROP TABLE music_library;\")\n",
    "    session.execute(\"DROP TABLE artist_library;\")\n",
    "    session.execute(\"DROP TABLE album_library;\")\n",
    "except Exception as e:\n",
    "    print(e)"
   ]
  },
  {
   "cell_type": "markdown",
   "id": "c85b7ab2",
   "metadata": {},
   "source": [
    "## Close session and cluster connection"
   ]
  },
  {
   "cell_type": "code",
   "execution_count": 11,
   "id": "78a98df8",
   "metadata": {},
   "outputs": [],
   "source": [
    "session.shutdown()\n",
    "cluster.shutdown()"
   ]
  },
  {
   "cell_type": "code",
   "execution_count": null,
   "id": "4184c57f",
   "metadata": {},
   "outputs": [],
   "source": []
  }
 ],
 "metadata": {
  "kernelspec": {
   "display_name": "Python 3 (ipykernel)",
   "language": "python",
   "name": "python3"
  },
  "language_info": {
   "codemirror_mode": {
    "name": "ipython",
    "version": 3
   },
   "file_extension": ".py",
   "mimetype": "text/x-python",
   "name": "python",
   "nbconvert_exporter": "python",
   "pygments_lexer": "ipython3",
   "version": "3.9.15"
  }
 },
 "nbformat": 4,
 "nbformat_minor": 5
}
