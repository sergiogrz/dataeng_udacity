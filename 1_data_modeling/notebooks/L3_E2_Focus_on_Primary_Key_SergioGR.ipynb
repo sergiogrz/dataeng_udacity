{
 "cells": [
  {
   "cell_type": "markdown",
   "id": "60fad899",
   "metadata": {},
   "source": [
    "## Import libraries"
   ]
  },
  {
   "cell_type": "code",
   "execution_count": 1,
   "id": "dd4aaf5a",
   "metadata": {},
   "outputs": [],
   "source": [
    "import cassandra\n",
    "from cassandra.cluster import Cluster"
   ]
  },
  {
   "cell_type": "markdown",
   "id": "1d313468",
   "metadata": {},
   "source": [
    "## Create a connection to the database"
   ]
  },
  {
   "cell_type": "code",
   "execution_count": 2,
   "id": "85fffd8f",
   "metadata": {},
   "outputs": [],
   "source": [
    "try:\n",
    "    cluster = Cluster([\"127.0.0.1\"])\n",
    "    session = cluster.connect()\n",
    "except Exception as e:\n",
    "    print(e)"
   ]
  },
  {
   "cell_type": "markdown",
   "id": "19d3d721",
   "metadata": {},
   "source": [
    "## Create a keyspace to do the work in and connect to it"
   ]
  },
  {
   "cell_type": "code",
   "execution_count": 3,
   "id": "7786ee4d",
   "metadata": {},
   "outputs": [],
   "source": [
    "try:\n",
    "    session.execute(\"\"\"\n",
    "    CREATE KEYSPACE IF NOT EXISTS udacity_keyspace\n",
    "    WITH REPLICATION = \n",
    "    {'class': 'SimpleStrategy', 'replication_factor': 1}\n",
    "    \"\"\")\n",
    "    session.set_keyspace(\"udacity_keyspace\")\n",
    "except Exception as e:\n",
    "    print(e)"
   ]
  },
  {
   "cell_type": "markdown",
   "id": "6aa16a9d",
   "metadata": {},
   "source": [
    "## Music library"
   ]
  },
  {
   "cell_type": "markdown",
   "id": "1003b24f",
   "metadata": {},
   "source": [
    "We need to create a new music library of albums.  \n",
    "\n",
    "Here is the information asked of the data:  \n",
    "Query: Give every album in the music library that was created by a given artist  \n",
    "`select * from music_library WHERE artist_name=\"The Beatles\"`  \n",
    "\n",
    "Here is the collection of data:\n",
    "![music_library_cassandra_db](images/music_library_cassandra_db_2.png)"
   ]
  },
  {
   "cell_type": "markdown",
   "id": "e275b192",
   "metadata": {},
   "source": [
    "## Data modeling"
   ]
  },
  {
   "cell_type": "markdown",
   "id": "843a4b35",
   "metadata": {},
   "source": [
    "### Let's try by making the PRIMARY KEY only one column"
   ]
  },
  {
   "cell_type": "code",
   "execution_count": 4,
   "id": "45f83e5e",
   "metadata": {},
   "outputs": [],
   "source": [
    "# Create table\n",
    "create_music_library = \"\"\"\n",
    "CREATE TABLE IF NOT EXISTS music_library (\n",
    "    year INT,\n",
    "    artist_name TEXT,\n",
    "    album_name TEXT,\n",
    "    city TEXT,\n",
    "    PRIMARY KEY (artist_name)\n",
    ");\n",
    "\"\"\"\n",
    "\n",
    "try:\n",
    "    session.execute(create_music_library)\n",
    "except Exception as e:\n",
    "    print(e)\n",
    "    \n",
    "# Insert data\n",
    "insert_music_library = \"\"\"\n",
    "INSERT INTO music_library (year, artist_name, album_name, city)\n",
    "VALUES (%s, %s, %s, %s);\n",
    "\"\"\"\n",
    "\n",
    "music_library_data = [\n",
    "    (1965, \"The Beatles\", \"Rubber Soul\", \"Oxford\"),\n",
    "    (1970, \"The Beatles\", \"Let it Be\", \"Liverpool\"),\n",
    "    (1966, \"The Monkees\", \"The Monkees\", \"Los Angeles\"),\n",
    "    (1970, \"The Carpenters\", \"Close To You\", \"San Diego\"),\n",
    "    (1965, \"The Who\", \"My Generation\", \"London\")\n",
    "]\n",
    "\n",
    "try:\n",
    "    for item in music_library_data:\n",
    "        session.execute(insert_music_library, item)\n",
    "except Exception as e:\n",
    "    print(e)"
   ]
  },
  {
   "cell_type": "markdown",
   "id": "2499a495",
   "metadata": {},
   "source": [
    "### Let's validate our data model. Does it give us two rows?"
   ]
  },
  {
   "cell_type": "code",
   "execution_count": 5,
   "id": "747af552",
   "metadata": {},
   "outputs": [
    {
     "name": "stdout",
     "output_type": "stream",
     "text": [
      "1970 The Beatles Let it Be Liverpool\n"
     ]
    }
   ],
   "source": [
    "query = \"\"\"\n",
    "SELECT *\n",
    "FROM music_library\n",
    "WHERE artist_name = 'The Beatles';\n",
    "\"\"\"\n",
    "\n",
    "try:\n",
    "    rows = session.execute(query)\n",
    "except Exception as e:\n",
    "    print(e)\n",
    "\n",
    "for row in rows:\n",
    "    print(row.year, row.artist_name, row.album_name, row.city)"
   ]
  },
  {
   "cell_type": "markdown",
   "id": "2b8d26ea",
   "metadata": {},
   "source": [
    "It doesn't give us the two rows because we haven't created a UNIQUE PRIMARY KEY."
   ]
  },
  {
   "cell_type": "markdown",
   "id": "e3f6a44e",
   "metadata": {},
   "source": [
    "## Let's now use a COMPOSITE KEY made by two columns"
   ]
  },
  {
   "cell_type": "code",
   "execution_count": 6,
   "id": "c7f182bc",
   "metadata": {},
   "outputs": [],
   "source": [
    "# Create table\n",
    "create_music_library = \"\"\"\n",
    "CREATE TABLE IF NOT EXISTS music_library2 (\n",
    "    year INT,\n",
    "    artist_name TEXT,\n",
    "    album_name TEXT,\n",
    "    city TEXT,\n",
    "    PRIMARY KEY (artist_name, year)\n",
    ");\n",
    "\"\"\"\n",
    "\n",
    "try:\n",
    "    session.execute(create_music_library)\n",
    "except Exception as e:\n",
    "    print(e)\n",
    "    \n",
    "# Insert data\n",
    "insert_music_library = \"\"\"\n",
    "INSERT INTO music_library2 (year, artist_name, album_name, city)\n",
    "VALUES (%s, %s, %s, %s);\n",
    "\"\"\"\n",
    "\n",
    "music_library_data = [\n",
    "    (1965, \"The Beatles\", \"Rubber Soul\", \"Oxford\"),\n",
    "    (1970, \"The Beatles\", \"Let it Be\", \"Liverpool\"),\n",
    "    (1966, \"The Monkees\", \"The Monkees\", \"Los Angeles\"),\n",
    "    (1970, \"The Carpenters\", \"Close To You\", \"San Diego\"),\n",
    "    (1965, \"The Who\", \"My Generation\", \"London\")\n",
    "]\n",
    "\n",
    "try:\n",
    "    for item in music_library_data:\n",
    "        session.execute(insert_music_library, item)\n",
    "except Exception as e:\n",
    "    print(e)"
   ]
  },
  {
   "cell_type": "markdown",
   "id": "03dbc8cb",
   "metadata": {},
   "source": [
    "### Validate our new data model"
   ]
  },
  {
   "cell_type": "code",
   "execution_count": 7,
   "id": "4ae96336",
   "metadata": {},
   "outputs": [
    {
     "name": "stdout",
     "output_type": "stream",
     "text": [
      "1965 The Beatles Rubber Soul Oxford\n",
      "1970 The Beatles Let it Be Liverpool\n"
     ]
    }
   ],
   "source": [
    "query = \"\"\"\n",
    "SELECT *\n",
    "FROM music_library2\n",
    "WHERE artist_name = 'The Beatles';\n",
    "\"\"\"\n",
    "\n",
    "try:\n",
    "    rows = session.execute(query)\n",
    "except Exception as e:\n",
    "    print(e)\n",
    "\n",
    "for row in rows:\n",
    "    print(row.year, row.artist_name, row.album_name, row.city)"
   ]
  },
  {
   "cell_type": "markdown",
   "id": "7d5ba529",
   "metadata": {},
   "source": [
    "Now we've got the expected output, so the data model is validated."
   ]
  },
  {
   "cell_type": "markdown",
   "id": "1fff2c02",
   "metadata": {},
   "source": [
    "## Drop the tables"
   ]
  },
  {
   "cell_type": "code",
   "execution_count": 8,
   "id": "3954c4bb",
   "metadata": {},
   "outputs": [],
   "source": [
    "try:\n",
    "    session.execute(\"DROP TABLE music_library;\")\n",
    "    session.execute(\"DROP TABLE music_library2;\")\n",
    "except Exception as e:\n",
    "    print(e)"
   ]
  },
  {
   "cell_type": "markdown",
   "id": "ea547472",
   "metadata": {},
   "source": [
    "## Close session and cluster connection"
   ]
  },
  {
   "cell_type": "code",
   "execution_count": 9,
   "id": "226c1fca",
   "metadata": {},
   "outputs": [],
   "source": [
    "session.shutdown()\n",
    "cluster.shutdown()"
   ]
  },
  {
   "cell_type": "code",
   "execution_count": null,
   "id": "26952b0d",
   "metadata": {},
   "outputs": [],
   "source": []
  }
 ],
 "metadata": {
  "kernelspec": {
   "display_name": "Python 3 (ipykernel)",
   "language": "python",
   "name": "python3"
  },
  "language_info": {
   "codemirror_mode": {
    "name": "ipython",
    "version": 3
   },
   "file_extension": ".py",
   "mimetype": "text/x-python",
   "name": "python",
   "nbconvert_exporter": "python",
   "pygments_lexer": "ipython3",
   "version": "3.9.15"
  }
 },
 "nbformat": 4,
 "nbformat_minor": 5
}
