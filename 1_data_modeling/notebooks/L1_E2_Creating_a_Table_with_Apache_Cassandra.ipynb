{
 "cells": [
  {
   "cell_type": "markdown",
   "id": "37e08d93",
   "metadata": {},
   "source": [
    "## Import libraries"
   ]
  },
  {
   "cell_type": "code",
   "execution_count": 1,
   "id": "e9c45345",
   "metadata": {},
   "outputs": [],
   "source": [
    "import cassandra\n",
    "from cassandra.cluster import Cluster"
   ]
  },
  {
   "cell_type": "markdown",
   "id": "487f2f22",
   "metadata": {},
   "source": [
    "## Create a connection to the database"
   ]
  },
  {
   "cell_type": "code",
   "execution_count": 2,
   "id": "9ea852b6",
   "metadata": {},
   "outputs": [],
   "source": [
    "try: \n",
    "    cluster = Cluster([\"127.0.0.1\"])\n",
    "    session = cluster.connect()\n",
    "except Exception as e:\n",
    "    print(e)"
   ]
  },
  {
   "cell_type": "markdown",
   "id": "f2e566ed",
   "metadata": {},
   "source": [
    "## Create a keyspace to do the work in"
   ]
  },
  {
   "cell_type": "code",
   "execution_count": 3,
   "id": "4bab5a24",
   "metadata": {},
   "outputs": [],
   "source": [
    "try:\n",
    "    session.execute(\"\"\"\n",
    "    CREATE KEYSPACE IF NOT EXISTS udacity_keyspace\n",
    "    WITH REPLICATION = \n",
    "    { 'class' : 'SimpleStrategy', 'replication_factor' : 1 }\"\"\"\n",
    ")\n",
    "\n",
    "except Exception as e:\n",
    "    print(e)"
   ]
  },
  {
   "cell_type": "markdown",
   "id": "ecdc40b2",
   "metadata": {},
   "source": [
    "## Connect to the keyspace"
   ]
  },
  {
   "cell_type": "code",
   "execution_count": 4,
   "id": "1aa48ad2",
   "metadata": {},
   "outputs": [],
   "source": [
    "try:\n",
    "    session.set_keyspace(\"udacity_keyspace\")\n",
    "except Exception as e:\n",
    "    print(e)"
   ]
  },
  {
   "cell_type": "markdown",
   "id": "ab220ec9",
   "metadata": {},
   "source": [
    "## Song library"
   ]
  },
  {
   "cell_type": "markdown",
   "id": "16ec83e1",
   "metadata": {},
   "source": [
    "### Create a table\n",
    "\n",
    "Create a Song Library that contains a list of songs, including:  \n",
    "\n",
    "song_title  \n",
    "artist_name  \n",
    "year  \n",
    "album_name  \n",
    "single  \n",
    "\n",
    "We need to create a table to be able to run the following query:  \n",
    "`select * from songs WHERE year=1970 AND artist_name=\"The Beatles\"`"
   ]
  },
  {
   "cell_type": "code",
   "execution_count": 5,
   "id": "1184c49c",
   "metadata": {},
   "outputs": [],
   "source": [
    "create_table_query = \"\"\"\n",
    "CREATE TABLE IF NOT EXISTS song_library (\n",
    "    song_title text,\n",
    "    artist_name text,\n",
    "    year int,\n",
    "    album_name text,\n",
    "    single boolean,\n",
    "    PRIMARY KEY (year, artist_name)\n",
    "    );\"\"\"\n",
    "try:\n",
    "    session.execute(create_table_query)\n",
    "except Exception as e:\n",
    "    print(e)"
   ]
  },
  {
   "cell_type": "markdown",
   "id": "0bac4cc9",
   "metadata": {},
   "source": [
    "### Insert some rows\n",
    "\n",
    "`First Row: \"1970\", \"Let It Be\", \"The Beatles\", \"Across The Universe\", \"False\", `\n",
    "\n",
    "`Second Row: \"1965\", \"Think For Yourself\", \"The Beatles\", \"Rubber Soul\", \"False\"`"
   ]
  },
  {
   "cell_type": "code",
   "execution_count": 6,
   "id": "b5a7c397",
   "metadata": {},
   "outputs": [],
   "source": [
    "insert_query = \"\"\"INSERT INTO song_library (year, song_title, artist_name, album_name, single)\n",
    "                    VALUES (%s, %s, %s, %s, %s)\"\"\" \n",
    "\n",
    "try:\n",
    "    session.execute(insert_query, (1970, \"Let It Be\", \"The Beatles\", \"Across The Universe\", False))\n",
    "except Exception as e:\n",
    "    print(e)\n",
    "    \n",
    "try:\n",
    "    session.execute(insert_query, (1965, \"Think For Yourself\", \"The Beatles\", \"Rubber Soul\", False))\n",
    "except Exception as e:\n",
    "    print(e)"
   ]
  },
  {
   "cell_type": "markdown",
   "id": "ef8c3a26",
   "metadata": {},
   "source": [
    "### Validate data insertion"
   ]
  },
  {
   "cell_type": "code",
   "execution_count": 7,
   "id": "0d1e77e1",
   "metadata": {},
   "outputs": [
    {
     "name": "stdout",
     "output_type": "stream",
     "text": [
      "1965 Rubber Soul The Beatles\n",
      "1970 Across The Universe The Beatles\n"
     ]
    }
   ],
   "source": [
    "query = 'SELECT * FROM song_library'\n",
    "try:\n",
    "    rows = session.execute(query)\n",
    "except Exception as e:\n",
    "    print(e)\n",
    "    \n",
    "for row in rows:\n",
    "    print (row.year, row.album_name, row.artist_name)"
   ]
  },
  {
   "cell_type": "markdown",
   "id": "8f7b9ee1",
   "metadata": {},
   "source": [
    "### Validate the data model with the original query"
   ]
  },
  {
   "cell_type": "code",
   "execution_count": 8,
   "id": "5ac4fc8e",
   "metadata": {},
   "outputs": [
    {
     "name": "stdout",
     "output_type": "stream",
     "text": [
      "1970 Across The Universe The Beatles\n"
     ]
    }
   ],
   "source": [
    "query = \"\"\"\n",
    "SELECT * \n",
    "FROM song_library\n",
    "WHERE year = 1970 AND\n",
    "    artist_name = 'The Beatles';\n",
    "\"\"\"\n",
    "try:\n",
    "    rows = session.execute(query)\n",
    "except Exception as e:\n",
    "    print(e)\n",
    "    \n",
    "for row in rows:\n",
    "    print (row.year, row.album_name, row.artist_name)"
   ]
  },
  {
   "cell_type": "markdown",
   "id": "4e778064",
   "metadata": {},
   "source": [
    "## Drop the table"
   ]
  },
  {
   "cell_type": "code",
   "execution_count": 9,
   "id": "99c48aab",
   "metadata": {},
   "outputs": [],
   "source": [
    "try:\n",
    "    rows = session.execute(\"DROP TABLE song_library;\")\n",
    "except Exception as e:\n",
    "    print(e)"
   ]
  },
  {
   "cell_type": "markdown",
   "id": "8366ac20",
   "metadata": {},
   "source": [
    "## Close session and cluster connection"
   ]
  },
  {
   "cell_type": "code",
   "execution_count": 10,
   "id": "e7177287",
   "metadata": {},
   "outputs": [],
   "source": [
    "session.shutdown()\n",
    "cluster.shutdown()"
   ]
  },
  {
   "cell_type": "code",
   "execution_count": null,
   "id": "83800c60",
   "metadata": {},
   "outputs": [],
   "source": []
  }
 ],
 "metadata": {
  "kernelspec": {
   "display_name": "Python 3 (ipykernel)",
   "language": "python",
   "name": "python3"
  },
  "language_info": {
   "codemirror_mode": {
    "name": "ipython",
    "version": 3
   },
   "file_extension": ".py",
   "mimetype": "text/x-python",
   "name": "python",
   "nbconvert_exporter": "python",
   "pygments_lexer": "ipython3",
   "version": "3.9.15"
  }
 },
 "nbformat": 4,
 "nbformat_minor": 5
}
