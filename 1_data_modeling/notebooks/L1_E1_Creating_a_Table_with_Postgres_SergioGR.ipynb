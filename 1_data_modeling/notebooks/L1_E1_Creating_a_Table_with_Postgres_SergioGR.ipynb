{
 "cells": [
  {
   "cell_type": "markdown",
   "id": "5d8f3c79",
   "metadata": {},
   "source": [
    "## Import libraries"
   ]
  },
  {
   "cell_type": "code",
   "execution_count": 1,
   "id": "b814724e",
   "metadata": {},
   "outputs": [],
   "source": [
    "import psycopg2"
   ]
  },
  {
   "cell_type": "markdown",
   "id": "c35e3a2b",
   "metadata": {},
   "source": [
    "## Create a connection to the database"
   ]
  },
  {
   "cell_type": "markdown",
   "id": "fe88cee2",
   "metadata": {},
   "source": [
    "We connect to an existing database."
   ]
  },
  {
   "cell_type": "code",
   "execution_count": 3,
   "id": "95d748e3",
   "metadata": {},
   "outputs": [],
   "source": [
    "try: \n",
    "    conn = psycopg2.connect(\"host=localhost dbname=postgres user=root password=root\")\n",
    "    conn.autocommit = True\n",
    "except psycopg2.Error as e: \n",
    "    print(\"Error: Could not make connection to the Postgres database\")\n",
    "    print(e)"
   ]
  },
  {
   "cell_type": "markdown",
   "id": "312dcc2d",
   "metadata": {},
   "source": [
    "## Use the connection to get a cursor that can be used to execute queries"
   ]
  },
  {
   "cell_type": "code",
   "execution_count": 4,
   "id": "a6d109e4",
   "metadata": {},
   "outputs": [],
   "source": [
    "try: \n",
    "    cur = conn.cursor()\n",
    "except psycopg2.Error as e: \n",
    "    print(\"Error: Could not get cursor to the Database\")\n",
    "    print(e)"
   ]
  },
  {
   "cell_type": "markdown",
   "id": "c9be8855",
   "metadata": {},
   "source": [
    "## Create a new database to do the work in"
   ]
  },
  {
   "cell_type": "code",
   "execution_count": 5,
   "id": "fdb90d43",
   "metadata": {},
   "outputs": [
    {
     "name": "stdout",
     "output_type": "stream",
     "text": [
      "database \"udacity_db\" already exists\n",
      "\n"
     ]
    }
   ],
   "source": [
    "try: \n",
    "    cur.execute(\"CREATE DATABASE udacity_db\")\n",
    "except psycopg2.Error as e:\n",
    "    print(e)"
   ]
  },
  {
   "cell_type": "markdown",
   "id": "97e983d8",
   "metadata": {},
   "source": [
    "## Connect to the new database"
   ]
  },
  {
   "cell_type": "markdown",
   "id": "433db83b",
   "metadata": {},
   "source": [
    "Close our connection to the default database, reconnect to the new database and get a new cursor."
   ]
  },
  {
   "cell_type": "code",
   "execution_count": 8,
   "id": "79a844c5",
   "metadata": {},
   "outputs": [],
   "source": [
    "try: \n",
    "    conn.close()\n",
    "except psycopg2.Error as e:\n",
    "    print(e)\n",
    "    \n",
    "try: \n",
    "    conn = psycopg2.connect(\"host=localhost dbname=udacity_db user=root password=root\")\n",
    "    conn.autocommit = True\n",
    "except psycopg2.Error as e: \n",
    "    print(\"Error: Could not make connection to the Postgres database\")\n",
    "    print(e)\n",
    "    \n",
    "try: \n",
    "    cur = conn.cursor()\n",
    "except psycopg2.Error as e: \n",
    "    print(\"Error: Could not get curser to the Database\")\n",
    "    print(e)"
   ]
  },
  {
   "cell_type": "markdown",
   "id": "129f56c8",
   "metadata": {},
   "source": [
    "## Create a song library"
   ]
  },
  {
   "cell_type": "markdown",
   "id": "6ab35b96",
   "metadata": {},
   "source": [
    "Library that contains a list of songs, including the song name, artist name, year, album it was from and if it was a single.\n",
    "\n",
    "`song_title\n",
    "artist_name\n",
    "year\n",
    "album_name\n",
    "single`"
   ]
  },
  {
   "cell_type": "code",
   "execution_count": 9,
   "id": "5262f8d6",
   "metadata": {},
   "outputs": [],
   "source": [
    "create_table_query = \"\"\"\n",
    "CREATE TABLE IF NOT EXISTS song_library (\n",
    "    song_title VARCHAR NOT NULL,\n",
    "    artist_name VARCHAR,\n",
    "    year INT,\n",
    "    album_name VARCHAR,\n",
    "    single BOOLEAN\n",
    ");\n",
    "\"\"\"\n",
    "try: \n",
    "    cur.execute(create_table_query)\n",
    "except psycopg2.Error as e: \n",
    "    print(\"Error: Issue creating table\")\n",
    "    print (e)"
   ]
  },
  {
   "cell_type": "markdown",
   "id": "3a8fdc71",
   "metadata": {},
   "source": [
    "## Insert some rows into the table"
   ]
  },
  {
   "cell_type": "markdown",
   "id": "ff3bac7e",
   "metadata": {},
   "source": [
    "`First Row:  \"Across The Universe\", \"The Beatles\", 1970, \"Let It Be\", False`\n",
    "\n",
    "`Second Row: \"Think For Yourself\", \"The Beatles\", 1965, \"Rubber Soul\", False`"
   ]
  },
  {
   "cell_type": "code",
   "execution_count": 10,
   "id": "365d4f58",
   "metadata": {},
   "outputs": [],
   "source": [
    "insert_query = \"\"\"\n",
    "INSERT INTO song_library (song_title, artist_name, year, album_name, single)\n",
    "VALUES (%s, %s, %s, %s, %s)\n",
    "\"\"\"\n",
    "try: \n",
    "    cur.execute(insert_query, (\"Across The Universe\", \"The Beatles\", 1970, \"Let It Be\", False))\n",
    "except psycopg2.Error as e: \n",
    "    print(\"Error: Inserting Rows\")\n",
    "    print (e)\n",
    "    \n",
    "try: \n",
    "    cur.execute(insert_query, (\"Think For Yourself\", \"The Beatles\", 1965, \"Rubber Soul\", False))\n",
    "except psycopg2.Error as e: \n",
    "    print(\"Error: Inserting Rows\")\n",
    "    print (e)"
   ]
  },
  {
   "cell_type": "markdown",
   "id": "e0abce22",
   "metadata": {},
   "source": [
    "## Validate data insertion"
   ]
  },
  {
   "cell_type": "code",
   "execution_count": 11,
   "id": "abdede6c",
   "metadata": {},
   "outputs": [
    {
     "name": "stdout",
     "output_type": "stream",
     "text": [
      "('Across The Universe', 'The Beatles', 1970, 'Let It Be', False)\n",
      "('Think For Yourself', 'The Beatles', 1965, 'Rubber Soul', False)\n"
     ]
    }
   ],
   "source": [
    "try: \n",
    "    cur.execute(\"SELECT * FROM song_library;\")\n",
    "except psycopg2.Error as e: \n",
    "    print(\"Error: select *\")\n",
    "    print (e)\n",
    "\n",
    "row = cur.fetchone()\n",
    "while row:\n",
    "   print(row)\n",
    "   row = cur.fetchone()"
   ]
  },
  {
   "cell_type": "markdown",
   "id": "3929880e",
   "metadata": {},
   "source": [
    "## Close cursor and connection"
   ]
  },
  {
   "cell_type": "code",
   "execution_count": 12,
   "id": "baa1506d",
   "metadata": {},
   "outputs": [],
   "source": [
    "cur.close()\n",
    "conn.close()"
   ]
  },
  {
   "cell_type": "code",
   "execution_count": null,
   "id": "b326fda3",
   "metadata": {},
   "outputs": [],
   "source": []
  }
 ],
 "metadata": {
  "kernelspec": {
   "display_name": "Python 3 (ipykernel)",
   "language": "python",
   "name": "python3"
  },
  "language_info": {
   "codemirror_mode": {
    "name": "ipython",
    "version": 3
   },
   "file_extension": ".py",
   "mimetype": "text/x-python",
   "name": "python",
   "nbconvert_exporter": "python",
   "pygments_lexer": "ipython3",
   "version": "3.9.15"
  }
 },
 "nbformat": 4,
 "nbformat_minor": 5
}
