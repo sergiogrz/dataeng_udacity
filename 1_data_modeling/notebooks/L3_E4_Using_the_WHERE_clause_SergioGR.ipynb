{
 "cells": [
  {
   "cell_type": "markdown",
   "id": "a7ebceba",
   "metadata": {},
   "source": [
    "## Import libraries"
   ]
  },
  {
   "cell_type": "code",
   "execution_count": 1,
   "id": "58c2d860",
   "metadata": {},
   "outputs": [],
   "source": [
    "import cassandra\n",
    "from cassandra.cluster import Cluster"
   ]
  },
  {
   "cell_type": "markdown",
   "id": "9148c815",
   "metadata": {},
   "source": [
    "## Create a connection to the database"
   ]
  },
  {
   "cell_type": "code",
   "execution_count": 2,
   "id": "128ed187",
   "metadata": {},
   "outputs": [],
   "source": [
    "try:\n",
    "    cluster = Cluster([\"127.0.0.1\"])\n",
    "    session = cluster.connect()\n",
    "except Exception as e:\n",
    "    print(e)"
   ]
  },
  {
   "cell_type": "markdown",
   "id": "ce27fc95",
   "metadata": {},
   "source": [
    "## Create a keyspace to do the work in and connect to it"
   ]
  },
  {
   "cell_type": "code",
   "execution_count": 3,
   "id": "73c89bfb",
   "metadata": {},
   "outputs": [],
   "source": [
    "try:\n",
    "    session.execute(\"\"\"\n",
    "    CREATE KEYSPACE IF NOT EXISTS udacity_keyspace\n",
    "    WITH REPLICATION = \n",
    "    {'class': 'SimpleStrategy', 'replication_factor': 1}\n",
    "    \"\"\")\n",
    "    session.set_keyspace(\"udacity_keyspace\")\n",
    "except Exception as e:\n",
    "    print(e)"
   ]
  },
  {
   "cell_type": "markdown",
   "id": "72ddd13c",
   "metadata": {},
   "source": [
    "## Music library"
   ]
  },
  {
   "cell_type": "markdown",
   "id": "5fe251ba",
   "metadata": {},
   "source": [
    "Let's imagine we would like to start creating a new Music Library of albums.  \n",
    "We want to ask 4 question of our data:\n",
    "1. Give me every album in my music library that was released in a 1965 year.\n",
    "2. Give me the album that is in my music library that was released in 1965 by \"The Beatles\".\n",
    "3. Give me all the albums released in a given year that were made in London.\n",
    "4. Give me the city where the album \"Rubber Soul\" was recorded.\n",
    "\n",
    "Here is our collection of data:\n",
    "\n",
    "![music_library_cassandra_db](images/music_library_cassandra_db_2.png)\n",
    "\n",
    "\n",
    "**How should we model this data? What should be our Primary Key and Partition Key? Since our data is looking for the YEAR let's start with that. From there we will add clustering columns on Artist Name and Album Name.**"
   ]
  },
  {
   "cell_type": "markdown",
   "id": "7737e22d",
   "metadata": {},
   "source": [
    "## Data modeling"
   ]
  },
  {
   "cell_type": "code",
   "execution_count": 4,
   "id": "cda1b838",
   "metadata": {},
   "outputs": [],
   "source": [
    "# Create table\n",
    "create_music_library = \"\"\"\n",
    "CREATE TABLE IF NOT EXISTS music_library (\n",
    "    year INT,\n",
    "    artist_name TEXT,\n",
    "    album_name TEXT,\n",
    "    city TEXT,\n",
    "    PRIMARY KEY (year, artist_name, album_name)\n",
    ");\n",
    "\"\"\"\n",
    "\n",
    "try:\n",
    "    session.execute(create_music_library)\n",
    "except Exception as e:\n",
    "    print(e)\n",
    "    \n",
    "# Insert data\n",
    "insert_music_library = \"\"\"\n",
    "INSERT INTO music_library (year, artist_name, album_name, city)\n",
    "VALUES (%s, %s, %s, %s);\n",
    "\"\"\"\n",
    "\n",
    "music_library_data = [\n",
    "    (1965, \"The Beatles\", \"Rubber Soul\", \"Oxford\"),\n",
    "    (1970, \"The Beatles\", \"Let it Be\", \"Liverpool\"),\n",
    "    (1966, \"The Monkees\", \"The Monkees\", \"Los Angeles\"),\n",
    "    (1970, \"The Carpenters\", \"Close To You\", \"San Diego\"),\n",
    "    (1965, \"The Who\", \"My Generation\", \"London\")\n",
    "]\n",
    "\n",
    "try:\n",
    "    for item in music_library_data:\n",
    "        session.execute(insert_music_library, item)\n",
    "except Exception as e:\n",
    "    print(e)"
   ]
  },
  {
   "cell_type": "markdown",
   "id": "e962cbd8",
   "metadata": {},
   "source": [
    "## Validate our model with the 4 queries"
   ]
  },
  {
   "cell_type": "markdown",
   "id": "6dc4cfda",
   "metadata": {},
   "source": [
    "### Query 1\n",
    "**Give me every album in my music library that was released in a 1965 year.**"
   ]
  },
  {
   "cell_type": "code",
   "execution_count": 5,
   "id": "3cecfb04",
   "metadata": {},
   "outputs": [
    {
     "name": "stdout",
     "output_type": "stream",
     "text": [
      "1965 The Beatles Rubber Soul Oxford\n",
      "1965 The Who My Generation London\n"
     ]
    }
   ],
   "source": [
    "query = \"\"\"\n",
    "SELECT *\n",
    "FROM music_library\n",
    "WHERE year = 1965;\n",
    "\"\"\"\n",
    "\n",
    "try:\n",
    "    rows = session.execute(query)\n",
    "except Exception as e:\n",
    "    print(e)\n",
    "    \n",
    "for row in rows:\n",
    "    print(row.year, row.artist_name, row.album_name, row.city)"
   ]
  },
  {
   "cell_type": "markdown",
   "id": "620ed571",
   "metadata": {},
   "source": [
    "### Query 2\n",
    "**Give me the album that is in my music library that was released in 1965 by \"The Beatles\".**"
   ]
  },
  {
   "cell_type": "code",
   "execution_count": 6,
   "id": "08b3628a",
   "metadata": {},
   "outputs": [
    {
     "name": "stdout",
     "output_type": "stream",
     "text": [
      "1965 The Beatles Rubber Soul Oxford\n"
     ]
    }
   ],
   "source": [
    "query = \"\"\"\n",
    "SELECT *\n",
    "FROM music_library\n",
    "WHERE year = 1965\n",
    "AND artist_name = 'The Beatles';\n",
    "\"\"\"\n",
    "\n",
    "try:\n",
    "    rows = session.execute(query)\n",
    "except Exception as e:\n",
    "    print(e)\n",
    "    \n",
    "for row in rows:\n",
    "    print(row.year, row.artist_name, row.album_name, row.city)"
   ]
  },
  {
   "cell_type": "markdown",
   "id": "fe5ad06c",
   "metadata": {},
   "source": [
    "### Query 3\n",
    "**Give me all the albums released in a given year that were made in London.**"
   ]
  },
  {
   "cell_type": "code",
   "execution_count": 7,
   "id": "eb94a5db",
   "metadata": {},
   "outputs": [
    {
     "name": "stdout",
     "output_type": "stream",
     "text": [
      "Error from server: code=2200 [Invalid query] message=\"Cannot execute this query as it might involve data filtering and thus may have unpredictable performance. If you want to execute this query despite the performance unpredictability, use ALLOW FILTERING\"\n"
     ]
    }
   ],
   "source": [
    "query = \"\"\"\n",
    "SELECT *\n",
    "FROM music_library\n",
    "WHERE year = 1965\n",
    "AND city = 'London';\n",
    "\"\"\"\n",
    "\n",
    "try:\n",
    "    rows = session.execute(query)\n",
    "except Exception as e:\n",
    "    print(e)\n",
    "    \n",
    "for row in rows:\n",
    "    print(row.year, row.artist_name, row.album_name, row.city)"
   ]
  },
  {
   "cell_type": "markdown",
   "id": "3bdb50f1",
   "metadata": {},
   "source": [
    "**ERROR! We can't try to access a column or a clustering column if we haven't defind the other clustering columns**  \n",
    "So in this case, if we want to filter on `city` (normal column), we have to use first `year` (partition key) and `artist_name` and `album_name` in that order (clustering columns).  \n",
    "Let's try it a different way."
   ]
  },
  {
   "cell_type": "code",
   "execution_count": 8,
   "id": "98d4e3f3",
   "metadata": {},
   "outputs": [
    {
     "name": "stdout",
     "output_type": "stream",
     "text": [
      "1965 The Who My Generation London\n"
     ]
    }
   ],
   "source": [
    "query = \"\"\"\n",
    "SELECT *\n",
    "FROM music_library\n",
    "WHERE year = 1965\n",
    "AND artist_name = 'The Who'\n",
    "AND album_name = 'My Generation';\n",
    "\"\"\"\n",
    "\n",
    "try:\n",
    "    rows = session.execute(query)\n",
    "except Exception as e:\n",
    "    print(e)\n",
    "    \n",
    "for row in rows:\n",
    "    print(row.year, row.artist_name, row.album_name, row.city)"
   ]
  },
  {
   "cell_type": "markdown",
   "id": "0d90e7d2",
   "metadata": {},
   "source": [
    "### Query 4\n",
    "**Give me the city were the album \"Rubber Soul\" was recorded.**"
   ]
  },
  {
   "cell_type": "code",
   "execution_count": 9,
   "id": "89320edf",
   "metadata": {},
   "outputs": [
    {
     "name": "stdout",
     "output_type": "stream",
     "text": [
      "Oxford\n"
     ]
    }
   ],
   "source": [
    "query = \"\"\"\n",
    "SELECT city\n",
    "FROM music_library\n",
    "WHERE year = 1965\n",
    "AND artist_name = 'The Beatles'\n",
    "AND album_name = 'Rubber Soul';\n",
    "\"\"\"\n",
    "\n",
    "try:\n",
    "    rows = session.execute(query)\n",
    "except Exception as e:\n",
    "    print(e)\n",
    "    \n",
    "for row in rows:\n",
    "    print(row.city)"
   ]
  },
  {
   "cell_type": "markdown",
   "id": "360a6512",
   "metadata": {},
   "source": [
    "## Drop the table"
   ]
  },
  {
   "cell_type": "code",
   "execution_count": 10,
   "id": "28ef1f9d",
   "metadata": {},
   "outputs": [],
   "source": [
    "try:\n",
    "    session.execute(\"DROP TABLE music_library;\")\n",
    "except Exception as e:\n",
    "    print(e)"
   ]
  },
  {
   "cell_type": "markdown",
   "id": "01fb3dad",
   "metadata": {},
   "source": [
    "## Close session and cluster connection"
   ]
  },
  {
   "cell_type": "code",
   "execution_count": 11,
   "id": "183f6c14",
   "metadata": {},
   "outputs": [],
   "source": [
    "session.shutdown()\n",
    "cluster.shutdown()"
   ]
  },
  {
   "cell_type": "code",
   "execution_count": null,
   "id": "1b847bcd",
   "metadata": {},
   "outputs": [],
   "source": []
  }
 ],
 "metadata": {
  "kernelspec": {
   "display_name": "Python 3 (ipykernel)",
   "language": "python",
   "name": "python3"
  },
  "language_info": {
   "codemirror_mode": {
    "name": "ipython",
    "version": 3
   },
   "file_extension": ".py",
   "mimetype": "text/x-python",
   "name": "python",
   "nbconvert_exporter": "python",
   "pygments_lexer": "ipython3",
   "version": "3.9.15"
  }
 },
 "nbformat": 4,
 "nbformat_minor": 5
}
