{
 "cells": [
  {
   "cell_type": "markdown",
   "metadata": {},
   "source": [
    "# Example analytic queries"
   ]
  },
  {
   "cell_type": "markdown",
   "metadata": {},
   "source": [
    "## Import libraries"
   ]
  },
  {
   "cell_type": "code",
   "execution_count": 1,
   "metadata": {},
   "outputs": [],
   "source": [
    "import configparser\n",
    "import psycopg2\n",
    "from prettytable import PrettyTable"
   ]
  },
  {
   "cell_type": "markdown",
   "metadata": {},
   "source": [
    "## Connect to Redshift database"
   ]
  },
  {
   "cell_type": "code",
   "execution_count": 2,
   "metadata": {},
   "outputs": [],
   "source": [
    "#Make connection to redshift database\n",
    "config = configparser.ConfigParser()\n",
    "config.read('dwh.cfg')\n",
    " #create the connection to redshift database using the config files\n",
    "conn = psycopg2.connect(\"host={} dbname={} user={} password={} port={}\".format(*config['CLUSTER'].values()))\n",
    "conn.autocommit = True\n",
    "cur = conn.cursor()"
   ]
  },
  {
   "cell_type": "markdown",
   "metadata": {},
   "source": [
    "## Schema\n",
    "![database schema](../images/project_dw_star_schema.png)"
   ]
  },
  {
   "cell_type": "markdown",
   "metadata": {},
   "source": [
    "## Initial tests\n",
    "Let's verify data was correctly loaded."
   ]
  },
  {
   "cell_type": "code",
   "execution_count": 3,
   "metadata": {},
   "outputs": [
    {
     "data": {
      "text/plain": [
       "[('artists',),\n",
       " ('songplays',),\n",
       " ('songs',),\n",
       " ('staging_events',),\n",
       " ('staging_songs',),\n",
       " ('time',),\n",
       " ('users',)]"
      ]
     },
     "execution_count": 3,
     "metadata": {},
     "output_type": "execute_result"
    }
   ],
   "source": [
    "cur.execute(f\"SELECT DISTINCT tablename FROM pg_table_def WHERE schemaname = 'public';\")\n",
    "cur.fetchall()"
   ]
  },
  {
   "cell_type": "code",
   "execution_count": 4,
   "metadata": {},
   "outputs": [
    {
     "name": "stdout",
     "output_type": "stream",
     "text": [
      "\n",
      "Number of rows table staging_events: 8056\n",
      "\n",
      "Number of rows table staging_songs: 14896\n",
      "\n",
      "Number of rows table songplays: 333\n",
      "\n",
      "Number of rows table users: 104\n",
      "\n",
      "Number of rows table songs: 14896\n",
      "\n",
      "Number of rows table artists: 10025\n",
      "\n",
      "Number of rows table time: 8023\n"
     ]
    }
   ],
   "source": [
    "tables = [\"staging_events\", \"staging_songs\", \"songplays\", \"users\", \"songs\", \"artists\", \"time\"]\n",
    "\n",
    "for table in tables:\n",
    "    query = f\"SELECT COUNT(*) FROM {table};\"\n",
    "    cur.execute(query)\n",
    "    print(f\"\\nNumber of rows table {table}: {cur.fetchone()[0]}\")"
   ]
  },
  {
   "cell_type": "markdown",
   "metadata": {},
   "source": [
    "## Analytic queries\n",
    "### 1. Most played songs"
   ]
  },
  {
   "cell_type": "code",
   "execution_count": 5,
   "metadata": {},
   "outputs": [
    {
     "name": "stdout",
     "output_type": "stream",
     "text": [
      "+------------------------------------------------------+---------------+------+-----------+\n",
      "|                         song                         |     artist    | year | num_plays |\n",
      "+------------------------------------------------------+---------------+------+-----------+\n",
      "|                    You're The One                    | Dwight Yoakam | 1990 |     37    |\n",
      "|                 I CAN'T GET STARTED                  |   Ron Carter  |  0   |     9     |\n",
      "| Catch You Baby (Steve Pitron & Max Sanna Radio Edit) | Lonnie Gordon |  0   |     9     |\n",
      "|  Nothin' On You [feat. Bruno Mars] (Album Version)   |     B.o.B     | 2010 |     8     |\n",
      "|               Hey Daddy (Daddy's Home)               |     Usher     | 2010 |     6     |\n",
      "+------------------------------------------------------+---------------+------+-----------+\n"
     ]
    }
   ],
   "source": [
    "query = \"\"\"\n",
    "SELECT s.title AS song, a.name AS artist, s.year, COUNT(sp.song_id) AS num_plays\n",
    "FROM songplays AS sp, songs AS s, artists as a\n",
    "WHERE sp.song_id = s.song_id\n",
    "AND sp.artist_id = a.artist_id\n",
    "GROUP BY song, artist, s.year\n",
    "ORDER BY num_plays desc\n",
    "LIMIT 5;\n",
    "\"\"\"\n",
    "\n",
    "try:\n",
    "    cur.execute(query)\n",
    "except psycopg2.Error as e:\n",
    "    print(\"Error while executing query\")\n",
    "    print(e)\n",
    "\n",
    "table = PrettyTable()\n",
    "table.field_names = [\"song\", \"artist\", \"year\", \"num_plays\"]\n",
    "\n",
    "row = cur.fetchone()\n",
    "while row:\n",
    "    table.add_row([row[0], row[1], row[2], row[3]])\n",
    "    row = cur.fetchone()\n",
    "print(table)"
   ]
  },
  {
   "cell_type": "markdown",
   "metadata": {},
   "source": [
    "### 2. Most played artists from 2000's decade"
   ]
  },
  {
   "cell_type": "code",
   "execution_count": 6,
   "metadata": {},
   "outputs": [
    {
     "name": "stdout",
     "output_type": "stream",
     "text": [
      "+------------------------------------------------+------+-----------+\n",
      "|                     artist                     | year | num_plays |\n",
      "+------------------------------------------------+------+-----------+\n",
      "|                    Kid Cudi                    | 2009 |     10    |\n",
      "|         Kid Cudi / Kanye West / Common         | 2009 |     10    |\n",
      "|                 Arctic Monkeys                 | 2004 |     5     |\n",
      "| Richard Hawley And Death Ramps_ Arctic Monkeys | 2004 |     5     |\n",
      "|                matchbox twenty                 | 2003 |     4     |\n",
      "+------------------------------------------------+------+-----------+\n"
     ]
    }
   ],
   "source": [
    "query = \"\"\"\n",
    "SELECT a.name AS artist, s.year, COUNT(sp.song_id) AS num_plays\n",
    "FROM songplays AS sp, songs AS s, artists AS a\n",
    "WHERE sp.song_id = s.song_id\n",
    "AND sp.artist_id = a.artist_id\n",
    "AND s.year BETWEEN 2000 AND 2009\n",
    "GROUP BY artist, s.year\n",
    "ORDER BY num_plays DESC\n",
    "LIMIT 5;\n",
    "\"\"\"\n",
    "\n",
    "try:\n",
    "    cur.execute(query)\n",
    "except psycopg2.Error as e:\n",
    "    print(\"Error while executing query\")\n",
    "    print(e)\n",
    "\n",
    "table = PrettyTable()\n",
    "table.field_names = [\"artist\", \"year\", \"num_plays\"]\n",
    "\n",
    "row = cur.fetchone()\n",
    "while row:\n",
    "    table.add_row([row[0], row[1], row[2]])\n",
    "    row = cur.fetchone()\n",
    "print(table)"
   ]
  },
  {
   "cell_type": "markdown",
   "metadata": {},
   "source": [
    "### 3. Most active users"
   ]
  },
  {
   "cell_type": "code",
   "execution_count": 7,
   "metadata": {},
   "outputs": [
    {
     "name": "stdout",
     "output_type": "stream",
     "text": [
      "+---------+--------------------+-----------+\n",
      "| user_id |        user        | num_plays |\n",
      "+---------+--------------------+-----------+\n",
      "|    49   |    Chloe Cuevas    |     42    |\n",
      "|    97   |    Kate Harrell    |     32    |\n",
      "|    80   |    Tegan Levine    |     31    |\n",
      "|    44   |    Aleena Kirby    |     21    |\n",
      "|    73   |    Jacob Klein     |     18    |\n",
      "|    88   | Mohammad Rodriguez |     17    |\n",
      "|    15   |     Lily Koch      |     15    |\n",
      "|    36   |   Matthew Jones    |     13    |\n",
      "|    24   |   Layla Griffin    |     13    |\n",
      "|    29   |  Jacqueline Lynch  |     13    |\n",
      "+---------+--------------------+-----------+\n"
     ]
    }
   ],
   "source": [
    "query = \"\"\"\n",
    "SELECT sp.user_id, CONCAT(u.first_name, CONCAT(' ', u.last_name)) AS user, COUNT(sp.song_id) AS num_plays\n",
    "FROM songplays sp, users u\n",
    "WHERE sp.user_id = u.user_id\n",
    "GROUP BY sp.user_id, u.first_name, u.last_name\n",
    "ORDER BY num_plays DESC\n",
    "LIMIT 10;\n",
    "\"\"\"\n",
    "\n",
    "try:\n",
    "    cur.execute(query)\n",
    "except psycopg2.Error as e:\n",
    "    print(\"Error while executing query\")\n",
    "    print(e)\n",
    "\n",
    "table = PrettyTable()\n",
    "table.field_names = [\"user_id\", \"user\", \"num_plays\"]\n",
    "\n",
    "row = cur.fetchone()\n",
    "while row:\n",
    "    table.add_row([row[0], row[1], row[2]])\n",
    "    row = cur.fetchone()\n",
    "print(table)"
   ]
  },
  {
   "cell_type": "markdown",
   "metadata": {},
   "source": [
    "### 4. Activity by day of the week and level"
   ]
  },
  {
   "cell_type": "code",
   "execution_count": 8,
   "metadata": {},
   "outputs": [
    {
     "name": "stdout",
     "output_type": "stream",
     "text": [
      "+-----------+-------+-----------+\n",
      "|  weekday  | level | num_plays |\n",
      "+-----------+-------+-----------+\n",
      "| MONDAY    |  free |     12    |\n",
      "| TUESDAY   |  free |     9     |\n",
      "| WEDNESDAY |  free |     8     |\n",
      "| THURSDAY  |  free |     10    |\n",
      "| FRIDAY    |  free |     15    |\n",
      "| SATURDAY  |  free |     4     |\n",
      "| SUNDAY    |  free |     4     |\n",
      "| MONDAY    |  paid |     50    |\n",
      "| TUESDAY   |  paid |     36    |\n",
      "| WEDNESDAY |  paid |     53    |\n",
      "| THURSDAY  |  paid |     55    |\n",
      "| FRIDAY    |  paid |     38    |\n",
      "| SATURDAY  |  paid |     27    |\n",
      "| SUNDAY    |  paid |     12    |\n",
      "+-----------+-------+-----------+\n"
     ]
    }
   ],
   "source": [
    "query = \"\"\"\n",
    "SELECT t.weekday, sp.level, COUNT(sp.song_id) AS num_plays\n",
    "FROM songplays sp, time t\n",
    "WHERE sp.start_time = t.start_time\n",
    "GROUP BY t.weekday, sp.level\n",
    "ORDER BY sp.level,\n",
    "     (CASE\n",
    "          WHEN t.weekday = 'MONDAY' THEN 1\n",
    "          WHEN t.weekday = 'TUESDAY' THEN 2\n",
    "          WHEN t.weekday = 'WEDNESDAY' THEN 3\n",
    "          WHEN t.weekday = 'THURSDAY' THEN 4\n",
    "          WHEN t.weekday = 'FRIDAY' THEN 5\n",
    "          WHEN t.weekday = 'SATURDAY' THEN 6\n",
    "          WHEN t.weekday = 'SUNDAY' THEN 7\n",
    "     END);\n",
    "\"\"\"\n",
    "\n",
    "try:\n",
    "    cur.execute(query)\n",
    "except psycopg2.Error as e:\n",
    "    print(\"Error while executing query\")\n",
    "    print(e)\n",
    "\n",
    "table = PrettyTable()\n",
    "table.field_names = [\"weekday\", \"level\", \"num_plays\"]\n",
    "\n",
    "row = cur.fetchone()\n",
    "while row:\n",
    "    table.add_row([row[0], row[1], row[2]])\n",
    "    row = cur.fetchone()\n",
    "print(table)"
   ]
  },
  {
   "cell_type": "markdown",
   "metadata": {},
   "source": [
    "### 5. Daily evolution of the activity"
   ]
  },
  {
   "cell_type": "code",
   "execution_count": 9,
   "metadata": {},
   "outputs": [
    {
     "name": "stdout",
     "output_type": "stream",
     "text": [
      "+---------------------+---------------------+\n",
      "|       date_min      |       date_max      |\n",
      "+---------------------+---------------------+\n",
      "| 2018-11-01 21:11:13 | 2018-11-30 17:31:24 |\n",
      "+---------------------+---------------------+\n"
     ]
    }
   ],
   "source": [
    "query = \"\"\"\n",
    "SELECT MIN(start_time) AS date_min, MAX(start_time) AS date_max\n",
    "FROM songplays;\n",
    "\"\"\"\n",
    "\n",
    "try:\n",
    "    cur.execute(query)\n",
    "except psycopg2.Error as e:\n",
    "    print(\"Error while executing query\")\n",
    "    print(e)\n",
    "\n",
    "table = PrettyTable()\n",
    "table.field_names = [\"date_min\", \"date_max\"]\n",
    "\n",
    "row = cur.fetchone()\n",
    "while row:\n",
    "    table.add_row([row[0], row[1]])\n",
    "    row = cur.fetchone()\n",
    "print(table)"
   ]
  },
  {
   "cell_type": "code",
   "execution_count": 10,
   "metadata": {},
   "outputs": [
    {
     "name": "stdout",
     "output_type": "stream",
     "text": [
      "+------------+-----------+\n",
      "|    date    | num_plays |\n",
      "+------------+-----------+\n",
      "| 2018/11/01 |     1     |\n",
      "| 2018/11/02 |     4     |\n",
      "| 2018/11/03 |     5     |\n",
      "| 2018/11/04 |     8     |\n",
      "| 2018/11/05 |     28    |\n",
      "| 2018/11/06 |     6     |\n",
      "| 2018/11/07 |     9     |\n",
      "| 2018/11/08 |     8     |\n",
      "| 2018/11/09 |     14    |\n",
      "| 2018/11/10 |     5     |\n",
      "| 2018/11/11 |     3     |\n",
      "| 2018/11/12 |     6     |\n",
      "| 2018/11/13 |     18    |\n",
      "| 2018/11/14 |     15    |\n",
      "| 2018/11/15 |     27    |\n",
      "| 2018/11/16 |     8     |\n",
      "| 2018/11/17 |     7     |\n",
      "| 2018/11/18 |     3     |\n",
      "| 2018/11/19 |     10    |\n",
      "| 2018/11/20 |     11    |\n",
      "| 2018/11/21 |     20    |\n",
      "| 2018/11/22 |     6     |\n",
      "| 2018/11/23 |     11    |\n",
      "| 2018/11/24 |     14    |\n",
      "| 2018/11/25 |     2     |\n",
      "| 2018/11/26 |     18    |\n",
      "| 2018/11/27 |     10    |\n",
      "| 2018/11/28 |     17    |\n",
      "| 2018/11/29 |     23    |\n",
      "| 2018/11/30 |     16    |\n",
      "+------------+-----------+\n"
     ]
    }
   ],
   "source": [
    "query = \"\"\"\n",
    "SELECT TO_CHAR(start_time, 'YYYY/MM/DD') AS date, COUNT(song_id) AS num_plays\n",
    "FROM songplays\n",
    "GROUP BY date\n",
    "ORDER BY date;\n",
    "\"\"\"\n",
    "\n",
    "try:\n",
    "    cur.execute(query)\n",
    "except psycopg2.Error as e:\n",
    "    print(\"Error while executing query\")\n",
    "    print(e)\n",
    "\n",
    "table = PrettyTable()\n",
    "table.field_names = [\"date\", \"num_plays\"]\n",
    "\n",
    "row = cur.fetchone()\n",
    "while row:\n",
    "    table.add_row([row[0], row[1]])\n",
    "    row = cur.fetchone()\n",
    "print(table)"
   ]
  },
  {
   "cell_type": "code",
   "execution_count": null,
   "metadata": {},
   "outputs": [],
   "source": []
  }
 ],
 "metadata": {
  "kernelspec": {
   "display_name": "Python 3 (ipykernel)",
   "language": "python",
   "name": "python3"
  },
  "language_info": {
   "codemirror_mode": {
    "name": "ipython",
    "version": 3
   },
   "file_extension": ".py",
   "mimetype": "text/x-python",
   "name": "python",
   "nbconvert_exporter": "python",
   "pygments_lexer": "ipython3",
   "version": "3.9.15"
  }
 },
 "nbformat": 4,
 "nbformat_minor": 2
}
